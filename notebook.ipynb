{
 "cells": [
  {
   "cell_type": "markdown",
   "metadata": {},
   "source": [
    "#  <font color='green'>__Python__</font>: un lenguaje de programación interpretado, de alto nivel y multipropósito. "
   ]
  },
  {
   "cell_type": "markdown",
   "metadata": {},
   "source": [
    "Guido van Rossum ideó el lenguaje Python a finales de los 80 y comenzó a implementarlo en diciembre de 1989. En febrero de 1991 publicó la primera versión pública, la versión 0.9.0. Nombró así el lenguaje en honor a Monthy Python\n",
    "\n",
    "<img src = 'first.png'/>"
   ]
  },
  {
   "cell_type": "markdown",
   "metadata": {},
   "source": [
    "Como lenguaje de alto nivel e interpretado, Python no necesita un compilador. Esto es diferente a Java, C ++ y Fortran, que deben compilarse antes de ser interpretados; Python se basa en una aplicación conocida como intérprete.\n"
   ]
  },
  {
   "cell_type": "markdown",
   "metadata": {},
   "source": [
    "_The Zen of Python_ por Tim Peters es un párrafo con 20 frases guías para el diseño del lenguaje de Python. Aparecen al utilizar la función <font color='green'>__import__</font> y a continuación escribir _this_\n",
    "\n"
   ]
  },
  {
   "cell_type": "code",
   "execution_count": null,
   "metadata": {},
   "outputs": [],
   "source": []
  },
  {
   "cell_type": "markdown",
   "metadata": {},
   "source": [
    "Ahora con <font color='green'>__import__</font> antigravity para descubrir otra referencia escondida o _easter egg_ "
   ]
  },
  {
   "cell_type": "code",
   "execution_count": 2,
   "metadata": {},
   "outputs": [],
   "source": []
  },
  {
   "cell_type": "markdown",
   "metadata": {},
   "source": [
    "Para no romper tradiciones utilizamos la función <font color='green'>__print__</font>('Salut monde') para hacer el clásico _hello world_. "
   ]
  },
  {
   "cell_type": "code",
   "execution_count": null,
   "metadata": {},
   "outputs": [],
   "source": []
  },
  {
   "cell_type": "markdown",
   "metadata": {},
   "source": [
    "Aunque en Python se puede importar el saludo con <font color='green'>__import__</font>. Esta es otra de las referencias 'escondidas' o _easter eggs_"
   ]
  },
  {
   "cell_type": "code",
   "execution_count": 97,
   "metadata": {},
   "outputs": [
    {
     "name": "stdout",
     "output_type": "stream",
     "text": [
      "Hello world!\n"
     ]
    }
   ],
   "source": [
    "import __hello__"
   ]
  },
  {
   "cell_type": "markdown",
   "metadata": {},
   "source": [
    "En Python las variables se crean y se asigna al mismo tiempo utilizando el igual '='. Su tipado es dinámico, es decir: la misma variable puede tomar valores de distinto tipo en distintos momentos. \n",
    "Los tipos de variables son: \n",
    "\n",
    "- __i__= $2$  ->  integer \n",
    "- __p__= $3.14$ ->float\n",
    "- __m__= 'Salut'-> string \n",
    "- __d__= {\"Código\" : 2141429, \"Nombre\" : \"María\", \"Edad\" : 22 }  \n",
    "\n",
    "<img src = 'dyty.png'/>"
   ]
  },
  {
   "cell_type": "code",
   "execution_count": null,
   "metadata": {},
   "outputs": [],
   "source": []
  },
  {
   "cell_type": "markdown",
   "metadata": {},
   "source": [
    "La función <font color='green'>__type__</font> regresa como _output_ el tipo de variable que colocamos entre paréntesis como _input_ "
   ]
  },
  {
   "cell_type": "code",
   "execution_count": null,
   "metadata": {},
   "outputs": [],
   "source": []
  },
  {
   "cell_type": "markdown",
   "metadata": {},
   "source": [
    "En el diccionario definido como d \n",
    "en el ejemplo anterior, se puede usar la función <font color='green'>__type__</font> para cada uno de sus componentes: "
   ]
  },
  {
   "cell_type": "code",
   "execution_count": null,
   "metadata": {},
   "outputs": [],
   "source": [
    "d={\"Código\" : 2141429, \"Nombre\" : \"María\", \"Edad\" : 22 }\n",
    "type(d)"
   ]
  },
  {
   "cell_type": "code",
   "execution_count": null,
   "metadata": {},
   "outputs": [],
   "source": [
    "type(d[\"Edad\"])"
   ]
  },
  {
   "cell_type": "markdown",
   "metadata": {},
   "source": [
    "Es importante no utilizar como nombres de variables las palabras como _if, as, while..._ porque estás palabras están reservadas como _Keywords_ del lenguaje:\n",
    "\n",
    "<img src = 'key.png'/>\n",
    "\n",
    "__RTFM:__ https://www.w3schools.com/python/python_ref_keywords.asp"
   ]
  },
  {
   "cell_type": "markdown",
   "metadata": {},
   "source": [
    "El equivalente de la función _Read_ en pantalla de Fortran es la función <font color='green'>__input__</font>() en cuyo argumento se pueden dar indicaciones sobre el _input_ deseado: "
   ]
  },
  {
   "cell_type": "code",
   "execution_count": null,
   "metadata": {},
   "outputs": [],
   "source": [
    "x=input(\"introduce un número\")"
   ]
  },
  {
   "cell_type": "markdown",
   "metadata": {},
   "source": [
    "## Condicionales: <font color='green'>__if, elif, else__</font>\n",
    "\n",
    "El siguiente programa usa una declaración condicional <font color='green'>__if__</font>. Después, una condición $(x > 0)$ seguida por dos puntos. A continuación se ubica el bloque de instrucciones que se ejecutará solo si la condición es verdadera. Este bloque puede ir seguido de la palabra else , dos puntos y otro bloque de instrucciones que se ejecutará solo si la condición es falsa. \n",
    "\n",
    "La función <font color='green'>__int__</font> se refiere a entero, _integer_ ."
   ]
  },
  {
   "cell_type": "code",
   "execution_count": null,
   "metadata": {
    "collapsed": true
   },
   "outputs": [],
   "source": [
    "x=int(input())\n",
    "if y<0: \n",
    "    print(-y)\n",
    "else:\n",
    "    print('ok')"
   ]
  },
  {
   "cell_type": "markdown",
   "metadata": {},
   "source": [
    "Los comandos de aritmética son los mismos que los del lenguaje FORTRAN. Un comando particular, '%' se utiliza para sacar el residuo de una división. Esto facilitó la escritura del siguiente código que regresa como _output_ si el número es par o impar.  "
   ]
  },
  {
   "cell_type": "code",
   "execution_count": null,
   "metadata": {
    "collapsed": true
   },
   "outputs": [],
   "source": [
    "x=int(input())\n",
    "if x%2 == 0 :\n",
    "    print(\"Par\")\n",
    "else:\n",
    "    print(\"Impar\")"
   ]
  },
  {
   "cell_type": "markdown",
   "metadata": {},
   "source": [
    "En los bloques de condiciones internas se utiliza más sangría (por ejemplo, 8 espacios). El siguiente programa indica el cuadrante de cualquier par de coordenadas x, y "
   ]
  },
  {
   "cell_type": "code",
   "execution_count": null,
   "metadata": {
    "collapsed": true
   },
   "outputs": [],
   "source": [
    "x = int(input()) \n",
    "y = int(input())\n",
    "if x > 0:\n",
    "    if y > 0:    \n",
    "        print(\"Cuadrante I\")\n",
    "    else:    \n",
    "        print(\"Cuadrante IV\")\n",
    "else:\n",
    "    if y > 0:\n",
    "        print(\"Cuadrante II\")\n",
    "    else:    \n",
    "        print(\"Cuadrante III\")"
   ]
  },
  {
   "cell_type": "markdown",
   "metadata": {},
   "source": [
    "Es posible ir más allá de dos opciones y con la instrucción <font color='green'>__elif__</font>, que es una contracción de _else if_. "
   ]
  },
  {
   "cell_type": "code",
   "execution_count": null,
   "metadata": {},
   "outputs": [],
   "source": [
    "edad = int(input(\"Edad: \"))\n",
    "if edad < 0:\n",
    "    print(\"are you kidding me -_-\")\n",
    "elif edad < 18:\n",
    "    print(\"Menor de edad\")\n",
    "else:\n",
    "    print(\"Mayor de edad\")"
   ]
  },
  {
   "cell_type": "markdown",
   "metadata": {},
   "source": [
    "## El bucle: <font color='green'>__for__</font>\n",
    "\n",
    "En general, un bucle es una estructura de control que repite un bloque de instrucciones. Un bucle for es un bucle que repite el bloque de instrucciones un número prederminado de veces. El bloque de instrucciones que se repite se suele llamar cuerpo del bucle y cada repetición se suele llamar iteración.\n",
    "\n",
    "La sintaxis es:\n",
    "\n",
    "<font color='green'>__for__</font> _(variable)_ <font color='green'>__in__</font> _(elemento iterable: lista, cadena, rango)_ \n",
    "\n",
    "Por ejemplo, la función <font color='green'>__range__</font>(_#inicial,#final,pasos_) define un un rango. \n",
    "\n",
    "\n"
   ]
  },
  {
   "cell_type": "code",
   "execution_count": null,
   "metadata": {},
   "outputs": [],
   "source": [
    "for i in range():\n",
    "    print(i**2)"
   ]
  },
  {
   "cell_type": "markdown",
   "metadata": {},
   "source": [
    "El siguiente código comprueba en cada iteración si $i$ es múltiplo de dos.\n",
    "El contador se modifica sólo si la variable de control i es múltiplo de 2. Python tiene en cuenta la sangría de de cada línea, el programa dará tres resultados diferentes dependiendo de donde se escriba la última acción <font color='green'>__print__</font>\n"
   ]
  },
  {
   "cell_type": "code",
   "execution_count": null,
   "metadata": {},
   "outputs": [],
   "source": [
    "x=int(input())\n",
    "cuenta = 0\n",
    "for i in range(1, x+1):\n",
    "    if i % 2 == 0:\n",
    "        cuenta = cuenta + 1\n",
    "print(cuenta)\n"
   ]
  },
  {
   "cell_type": "markdown",
   "metadata": {},
   "source": [
    "También puede ser útil para recorrer listas. "
   ]
  },
  {
   "cell_type": "code",
   "execution_count": null,
   "metadata": {},
   "outputs": [],
   "source": [
    "lista = ['a', 3, 4.5, 'b', 7, 9] \n",
    "\n",
    "for i in lista:\n",
    "    print(i)"
   ]
  },
  {
   "cell_type": "markdown",
   "metadata": {},
   "source": [
    "Hay maneras muy sencillas de crear nuevas listas a partir de las anteriores "
   ]
  },
  {
   "cell_type": "code",
   "execution_count": null,
   "metadata": {},
   "outputs": [],
   "source": [
    "enteros_lista = [i for i in lista if type(i) == int]\n",
    "print(enteros_lista)"
   ]
  },
  {
   "cell_type": "markdown",
   "metadata": {},
   "source": [
    "## Definir funciones en Python"
   ]
  },
  {
   "cell_type": "markdown",
   "metadata": {},
   "source": [
    "Las funciones se pueden crear en cualquier punto de un programa, escribiendo su definición. La primera línea de la definición de una función contiene:\n",
    "\n",
    "La palabra reservada <font color='green'>__def__</font>, el nombre de la función (se recomienda escribir todos los caracteres en minúsculas separando las palabras por guiones bajos),\n",
    "paréntesis (para incluir los argumentos de la función) y dos puntos. Después de las indicaciones de lo que hace nuestra función se utiliza <font color='green'>__return__</font> para indicar el output al 'llamar' la función\n",
    "\n"
   ]
  },
  {
   "cell_type": "code",
   "execution_count": 12,
   "metadata": {},
   "outputs": [],
   "source": [
    "def cuadrado(x):\n",
    "    x2=x*x\n",
    "    return x2"
   ]
  },
  {
   "cell_type": "code",
   "execution_count": null,
   "metadata": {},
   "outputs": [],
   "source": [
    "cuadrado(7)"
   ]
  },
  {
   "cell_type": "markdown",
   "metadata": {},
   "source": [
    "Ahora, el reto es definir un programa que diga si un número es primo o no, utilizando los condicionales y <font color='green'>__for__</font> "
   ]
  },
  {
   "cell_type": "code",
   "execution_count": null,
   "metadata": {},
   "outputs": [],
   "source": [
    "def primo(x):\n",
    "    \n",
    " \n",
    "\n",
    "\n",
    "\n"
   ]
  },
  {
   "cell_type": "code",
   "execution_count": null,
   "metadata": {},
   "outputs": [],
   "source": [
    "primo()"
   ]
  },
  {
   "cell_type": "markdown",
   "metadata": {},
   "source": [
    "## Recursividad\n",
    "\n",
    "Para ilustrar este recurso del lenguaje es conveniente programar una función factorial. Como sabemos, el factorial de un numero $n$ se escribe como $n!$ :\n",
    "\n",
    "$$n!=1*2*3*...*(n-1)*n$$\n",
    "\n",
    "A continuación hay un código que define la función factorial:\n",
    "\n"
   ]
  },
  {
   "cell_type": "code",
   "execution_count": null,
   "metadata": {},
   "outputs": [],
   "source": [
    "def factorial(n):\n",
    "    if n == 0:\n",
    "        return 1\n",
    "    if n == 1: \n",
    "        return 1\n",
    "    fac=1\n",
    "    for i in range(2,n+1):\n",
    "        fac =+ fac*i\n",
    "    print(fac)\n",
    "return 'ok'"
   ]
  },
  {
   "cell_type": "markdown",
   "metadata": {},
   "source": [
    "<img src = 'fac.png'/>"
   ]
  },
  {
   "cell_type": "code",
   "execution_count": null,
   "metadata": {},
   "outputs": [],
   "source": [
    "factorial(12)"
   ]
  },
  {
   "cell_type": "markdown",
   "metadata": {},
   "source": [
    "Sabemos de otra forma matemática de enunciar la función factorial:\n",
    "$$n! = (n-1)!*n$$ \n",
    "\n",
    "En la definición de la función factorial se utiliza dicha función. Este recurso se llama __recursividad__, una función recursiva es aquella que se llama a sí misma\n",
    "\n",
    "<img src=\"https://media.giphy.com/media/U7EOycerCyghO/giphy.gif\" width=\"400\" height=\"400\" />"
   ]
  },
  {
   "cell_type": "code",
   "execution_count": null,
   "metadata": {},
   "outputs": [],
   "source": [
    "def factorial_bucle(n):\n",
    "    if n == 1:\n",
    "        return 1\n",
    "    else:\n",
    "        return n * factorial_bucle(n-1)\n",
    "    \n",
    "factorial_bucle(7)"
   ]
  },
  {
   "cell_type": "markdown",
   "metadata": {},
   "source": [
    "## Librerias\n",
    "\n",
    "Las librerías o módulos son código creado por otras personas que podemos usar para no tener que \"reinventar la rueda\". Pueden traer variables y funciones útiles optimizadas. La comunidad de Python en el mundo es muy grande y es casi seguro que al empezar un proyecto, existirán antecedentes o algo muy parecido.\n",
    "\n",
    "Para importar una libreria existen varias formas:\n",
    "\n",
    "__1. Importando todo el modulo.__ \n",
    "Todas las funciones del módulo math: https://docs.python.org/3/library/math.html"
   ]
  },
  {
   "cell_type": "code",
   "execution_count": 29,
   "metadata": {},
   "outputs": [],
   "source": [
    "import math"
   ]
  },
  {
   "cell_type": "code",
   "execution_count": null,
   "metadata": {},
   "outputs": [],
   "source": [
    "math.factorial(12)"
   ]
  },
  {
   "cell_type": "code",
   "execution_count": null,
   "metadata": {},
   "outputs": [],
   "source": [
    "math.acos(0.5)"
   ]
  },
  {
   "cell_type": "markdown",
   "metadata": {},
   "source": [
    "__2. Importando solo algunas funciones del modulo__\n"
   ]
  },
  {
   "cell_type": "code",
   "execution_count": null,
   "metadata": {},
   "outputs": [],
   "source": [
    "from math import sqrt \n",
    "root = sqrt(9)\n",
    "print(root)"
   ]
  },
  {
   "cell_type": "markdown",
   "metadata": {},
   "source": [
    "### Vectores con numpy"
   ]
  },
  {
   "cell_type": "code",
   "execution_count": null,
   "metadata": {},
   "outputs": [],
   "source": [
    "import numpy as np \n",
    "\n",
    "vec_a = np.array([[1],[4],[8]])\n",
    "vec_a"
   ]
  },
  {
   "cell_type": "code",
   "execution_count": null,
   "metadata": {},
   "outputs": [],
   "source": [
    "vec_a.shape"
   ]
  },
  {
   "cell_type": "markdown",
   "metadata": {},
   "source": [
    "### Matrices con numpy"
   ]
  },
  {
   "cell_type": "code",
   "execution_count": null,
   "metadata": {},
   "outputs": [],
   "source": [
    "matriz_ej = np.array([[7,5],[6,3],[0,2]])\n",
    "matriz_ej"
   ]
  },
  {
   "cell_type": "code",
   "execution_count": null,
   "metadata": {},
   "outputs": [],
   "source": [
    "matriz_ej.shape"
   ]
  },
  {
   "cell_type": "code",
   "execution_count": null,
   "metadata": {},
   "outputs": [],
   "source": [
    "matriz_ej.T"
   ]
  }
 ],
 "metadata": {
  "kernelspec": {
   "display_name": "Python 3",
   "language": "python",
   "name": "python3"
  },
  "language_info": {
   "codemirror_mode": {
    "name": "ipython",
    "version": 3
   },
   "file_extension": ".py",
   "mimetype": "text/x-python",
   "name": "python",
   "nbconvert_exporter": "python",
   "pygments_lexer": "ipython3",
   "version": "3.7.1"
  }
 },
 "nbformat": 4,
 "nbformat_minor": 2
}
